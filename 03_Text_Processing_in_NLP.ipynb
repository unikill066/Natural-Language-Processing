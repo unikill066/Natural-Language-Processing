{
  "nbformat": 4,
  "nbformat_minor": 0,
  "metadata": {
    "colab": {
      "name": "03_Text Processing in NLP.ipynb",
      "provenance": []
    },
    "kernelspec": {
      "name": "python3",
      "display_name": "Python 3"
    },
    "language_info": {
      "name": "python"
    }
  },
  "cells": [
    {
      "cell_type": "code",
      "metadata": {
        "id": "xKysb3PAE9FI"
      },
      "source": [
        "import numpy as np, nltk, re # regular expression\n",
        "from sklearn.datasets import fetch_20newsgroups # importing dataset from sklearn, we have a couple of text books in NLTK as well \"from nltk.book import *\"\n",
        "# pip install sklearn\n",
        "from nltk.tokenize import word_tokenize, sent_tokenize # for tokenization\n",
        "# nltk.download('punkt')\n",
        "from nltk.corpus import stopwords # stopwords\n",
        "# nltk.download('stopwords')\n",
        "from nltk.stem.porter import PorterStemmer # stemmer\n",
        "from nltk.stem.wordnet import WordNetLemmatizer # lemmatizer\n",
        "# nltk.download('wordnet')"
      ],
      "execution_count": 1,
      "outputs": []
    },
    {
      "cell_type": "code",
      "metadata": {
        "colab": {
          "base_uri": "https://localhost:8080/"
        },
        "id": "-R6zjIG-g938",
        "outputId": "62036aca-a35d-4367-a83e-bc5da2b36e96"
      },
      "source": [
        "nltk.download('wordnet')\n",
        "nltk.download('punkt')\n",
        "nltk.download('stopwords')"
      ],
      "execution_count": 2,
      "outputs": [
        {
          "output_type": "stream",
          "text": [
            "[nltk_data] Downloading package wordnet to /root/nltk_data...\n",
            "[nltk_data]   Unzipping corpora/wordnet.zip.\n",
            "[nltk_data] Downloading package punkt to /root/nltk_data...\n",
            "[nltk_data]   Unzipping tokenizers/punkt.zip.\n",
            "[nltk_data] Downloading package stopwords to /root/nltk_data...\n",
            "[nltk_data]   Unzipping corpora/stopwords.zip.\n"
          ],
          "name": "stdout"
        },
        {
          "output_type": "execute_result",
          "data": {
            "text/plain": [
              "True"
            ]
          },
          "metadata": {},
          "execution_count": 2
        }
      ]
    },
    {
      "cell_type": "code",
      "metadata": {
        "colab": {
          "base_uri": "https://localhost:8080/"
        },
        "id": "ST10V0iEFkRl",
        "outputId": "a0d6917e-1f3e-44a2-b623-1227a5fd1a8d"
      },
      "source": [
        "# Loading the data\n",
        "text_data = fetch_20newsgroups()"
      ],
      "execution_count": 3,
      "outputs": [
        {
          "output_type": "stream",
          "text": [
            "Downloading 20news dataset. This may take a few minutes.\n",
            "Downloading dataset from https://ndownloader.figshare.com/files/5975967 (14 MB)\n"
          ],
          "name": "stderr"
        }
      ]
    },
    {
      "cell_type": "code",
      "metadata": {
        "colab": {
          "base_uri": "https://localhost:8080/"
        },
        "id": "_V4ZBm5SFkaL",
        "outputId": "8d12094b-2d7c-4208-90ea-d96a0fd78265"
      },
      "source": [
        "type(text_data) # this is basically a bunch datatype, we can convert this to list or array"
      ],
      "execution_count": 4,
      "outputs": [
        {
          "output_type": "execute_result",
          "data": {
            "text/plain": [
              "sklearn.utils.Bunch"
            ]
          },
          "metadata": {},
          "execution_count": 4
        }
      ]
    },
    {
      "cell_type": "code",
      "metadata": {
        "colab": {
          "base_uri": "https://localhost:8080/"
        },
        "id": "QeL9IkcnFMUN",
        "outputId": "d2ba1ef5-6303-4dbd-d378-798fffa111d5"
      },
      "source": [
        "raw_data = text_data.data\n",
        "raw_data[:10]"
      ],
      "execution_count": 5,
      "outputs": [
        {
          "output_type": "execute_result",
          "data": {
            "text/plain": [
              "[\"From: lerxst@wam.umd.edu (where's my thing)\\nSubject: WHAT car is this!?\\nNntp-Posting-Host: rac3.wam.umd.edu\\nOrganization: University of Maryland, College Park\\nLines: 15\\n\\n I was wondering if anyone out there could enlighten me on this car I saw\\nthe other day. It was a 2-door sports car, looked to be from the late 60s/\\nearly 70s. It was called a Bricklin. The doors were really small. In addition,\\nthe front bumper was separate from the rest of the body. This is \\nall I know. If anyone can tellme a model name, engine specs, years\\nof production, where this car is made, history, or whatever info you\\nhave on this funky looking car, please e-mail.\\n\\nThanks,\\n- IL\\n   ---- brought to you by your neighborhood Lerxst ----\\n\\n\\n\\n\\n\",\n",
              " \"From: guykuo@carson.u.washington.edu (Guy Kuo)\\nSubject: SI Clock Poll - Final Call\\nSummary: Final call for SI clock reports\\nKeywords: SI,acceleration,clock,upgrade\\nArticle-I.D.: shelley.1qvfo9INNc3s\\nOrganization: University of Washington\\nLines: 11\\nNNTP-Posting-Host: carson.u.washington.edu\\n\\nA fair number of brave souls who upgraded their SI clock oscillator have\\nshared their experiences for this poll. Please send a brief message detailing\\nyour experiences with the procedure. Top speed attained, CPU rated speed,\\nadd on cards and adapters, heat sinks, hour of usage per day, floppy disk\\nfunctionality with 800 and 1.4 m floppies are especially requested.\\n\\nI will be summarizing in the next two days, so please add to the network\\nknowledge base if you have done the clock upgrade and haven't answered this\\npoll. Thanks.\\n\\nGuy Kuo <guykuo@u.washington.edu>\\n\",\n",
              " 'From: twillis@ec.ecn.purdue.edu (Thomas E Willis)\\nSubject: PB questions...\\nOrganization: Purdue University Engineering Computer Network\\nDistribution: usa\\nLines: 36\\n\\nwell folks, my mac plus finally gave up the ghost this weekend after\\nstarting life as a 512k way back in 1985.  sooo, i\\'m in the market for a\\nnew machine a bit sooner than i intended to be...\\n\\ni\\'m looking into picking up a powerbook 160 or maybe 180 and have a bunch\\nof questions that (hopefully) somebody can answer:\\n\\n* does anybody know any dirt on when the next round of powerbook\\nintroductions are expected?  i\\'d heard the 185c was supposed to make an\\nappearence \"this summer\" but haven\\'t heard anymore on it - and since i\\ndon\\'t have access to macleak, i was wondering if anybody out there had\\nmore info...\\n\\n* has anybody heard rumors about price drops to the powerbook line like the\\nones the duo\\'s just went through recently?\\n\\n* what\\'s the impression of the display on the 180?  i could probably swing\\na 180 if i got the 80Mb disk rather than the 120, but i don\\'t really have\\na feel for how much \"better\" the display is (yea, it looks great in the\\nstore, but is that all \"wow\" or is it really that good?).  could i solicit\\nsome opinions of people who use the 160 and 180 day-to-day on if its worth\\ntaking the disk size and money hit to get the active display?  (i realize\\nthis is a real subjective question, but i\\'ve only played around with the\\nmachines in a computer store breifly and figured the opinions of somebody\\nwho actually uses the machine daily might prove helpful).\\n\\n* how well does hellcats perform?  ;)\\n\\nthanks a bunch in advance for any info - if you could email, i\\'ll post a\\nsummary (news reading time is at a premium with finals just around the\\ncorner... :( )\\n--\\nTom Willis  \\\\  twillis@ecn.purdue.edu    \\\\    Purdue Electrical Engineering\\n---------------------------------------------------------------------------\\n\"Convictions are more dangerous enemies of truth than lies.\"  - F. W.\\nNietzsche\\n',\n",
              " 'From: jgreen@amber (Joe Green)\\nSubject: Re: Weitek P9000 ?\\nOrganization: Harris Computer Systems Division\\nLines: 14\\nDistribution: world\\nNNTP-Posting-Host: amber.ssd.csd.harris.com\\nX-Newsreader: TIN [version 1.1 PL9]\\n\\nRobert J.C. Kyanko (rob@rjck.UUCP) wrote:\\n> abraxis@iastate.edu writes in article <abraxis.734340159@class1.iastate.edu>:\\n> > Anyone know about the Weitek P9000 graphics chip?\\n> As far as the low-level stuff goes, it looks pretty nice.  It\\'s got this\\n> quadrilateral fill command that requires just the four points.\\n\\nDo you have Weitek\\'s address/phone number?  I\\'d like to get some information\\nabout this chip.\\n\\n--\\nJoe Green\\t\\t\\t\\tHarris Corporation\\njgreen@csd.harris.com\\t\\t\\tComputer Systems Division\\n\"The only thing that really scares me is a person with no sense of humor.\"\\n\\t\\t\\t\\t\\t\\t-- Jonathan Winters\\n',\n",
              " 'From: jcm@head-cfa.harvard.edu (Jonathan McDowell)\\nSubject: Re: Shuttle Launch Question\\nOrganization: Smithsonian Astrophysical Observatory, Cambridge, MA,  USA\\nDistribution: sci\\nLines: 23\\n\\nFrom article <C5owCB.n3p@world.std.com>, by tombaker@world.std.com (Tom A Baker):\\n>>In article <C5JLwx.4H9.1@cs.cmu.edu>, ETRAT@ttacs1.ttu.edu (Pack Rat) writes...\\n>>>\"Clear caution & warning memory.  Verify no unexpected\\n>>>errors. ...\".  I am wondering what an \"expected error\" might\\n>>>be.  Sorry if this is a really dumb question, but\\n> \\n> Parity errors in memory or previously known conditions that were waivered.\\n>    \"Yes that is an error, but we already knew about it\"\\n> I\\'d be curious as to what the real meaning of the quote is.\\n> \\n> tom\\n\\n\\nMy understanding is that the \\'expected errors\\' are basically\\nknown bugs in the warning system software - things are checked\\nthat don\\'t have the right values in yet because they aren\\'t\\nset till after launch, and suchlike. Rather than fix the code\\nand possibly introduce new bugs, they just tell the crew\\n\\'ok, if you see a warning no. 213 before liftoff, ignore it\\'.\\n\\n - Jonathan\\n\\n\\n',\n",
              " 'From: dfo@vttoulu.tko.vtt.fi (Foxvog Douglas)\\nSubject: Re: Rewording the Second Amendment (ideas)\\nOrganization: VTT\\nLines: 58\\n\\nIn article <1r1eu1$4t@transfer.stratus.com> cdt@sw.stratus.com (C. D. Tavares) writes:\\n>In article <1993Apr20.083057.16899@ousrvr.oulu.fi>, dfo@vttoulu.tko.vtt.fi (Foxvog Douglas) writes:\\n>> In article <1qv87v$4j3@transfer.stratus.com> cdt@sw.stratus.com (C. D. Tavares) writes:\\n>> >In article <C5n3GI.F8F@ulowell.ulowell.edu>, jrutledg@cs.ulowell.edu (John Lawrence Rutledge) writes:\\n>\\n>> >> The massive destructive power of many modern weapons, makes the\\n>> >> cost of an accidental or crimial usage of these weapons to great.\\n>> >> The weapons of mass destruction need to be in the control of\\n>> >> the government only.  Individual access would result in the\\n>> >> needless deaths of millions.  This makes the right of the people\\n>> >> to keep and bear many modern weapons non-existant.\\n\\n>> >Thanks for stating where you\\'re coming from.  Needless to say, I\\n>> >disagree on every count.\\n\\n>> You believe that individuals should have the right to own weapons of\\n>> mass destruction?  I find it hard to believe that you would support a \\n>> neighbor\\'s right to keep nuclear weapons, biological weapons, and nerve\\n>> gas on his/her property.  \\n\\n>> If we cannot even agree on keeping weapons of mass destruction out of\\n>> the hands of individuals, can there be any hope for us?\\n\\n>I don\\'t sign any blank checks.\\n\\nOf course.  The term must be rigidly defined in any bill.\\n\\n>When Doug Foxvog says \"weapons of mass destruction,\" he means CBW and\\n>nukes.  When Sarah Brady says \"weapons of mass destruction\" she means\\n>Street Sweeper shotguns and semi-automatic SKS rifles.  \\n\\nI doubt she uses this term for that.  You are using a quote allegedly\\nfrom her, can you back it up?\\n\\n>When John\\n>Lawrence Rutledge says \"weapons of mass destruction,\" and then immediately\\n>follows it with:\\n\\n>>> The US has thousands of people killed each year by handguns,\\n>>> this number can easily be reduced by putting reasonable restrictions\\n>>> on them.\\n\\n>...what does Rutledge mean by the term?\\n\\nI read the article as presenting first an argument about weapons of mass\\ndestruction (as commonly understood) and then switching to other topics.\\nThe first point evidently was to show that not all weapons should be\\nallowed, and then the later analysis was, given this understanding, to\\nconsider another class.\\n\\n>cdt@rocket.sw.stratus.com   --If you believe that I speak for my company,\\n>OR cdt@vos.stratus.com        write today for my special Investors\\' Packet...\\n\\n\\n\\n-- \\ndoug foxvog\\ndouglas.foxvog@vtt.fi\\n',\n",
              " 'From: bmdelane@quads.uchicago.edu (brian manning delaney)\\nSubject: Brain Tumor Treatment (thanks)\\nReply-To: bmdelane@midway.uchicago.edu\\nOrganization: University of Chicago\\nLines: 12\\n\\nThere were a few people who responded to my request for info on\\ntreatment for astrocytomas through email, whom I couldn\\'t thank\\ndirectly because of mail-bouncing probs (Sean, Debra, and Sharon).  So\\nI thought I\\'d publicly thank everyone.\\n\\nThanks! \\n\\n(I\\'m sure glad I accidentally hit \"rn\" instead of \"rm\" when I was\\ntrying to delete a file last September. \"Hmmm... \\'News?\\' What\\'s\\nthis?\"....)\\n\\n-Brian\\n',\n",
              " 'From: bgrubb@dante.nmsu.edu (GRUBB)\\nSubject: Re: IDE vs SCSI\\nOrganization: New Mexico State University, Las Cruces, NM\\nLines: 44\\nDistribution: world\\nNNTP-Posting-Host: dante.nmsu.edu\\n\\nDXB132@psuvm.psu.edu writes:\\n>In article <1qlbrlINN7rk@dns1.NMSU.Edu>, bgrubb@dante.nmsu.edu (GRUBB) says:\\n>>In PC Magazine April 27, 1993:29 \"Although SCSI is twice as fasst as ESDI,\\n>>20% faster than IDE, and support up to 7 devices its acceptance ...has   \\n>>long been stalled by incompatability problems and installation headaches.\"\\n                                                                      \\n>I love it when magazine writers make stupid statements like that re:      \\n>performance. Where do they get those numbers? I\\'ll list the actual\\n>performance ranges, which should convince anyone that such a               \\n>statement is absurd:                                                     \\n>SCSI-I ranges from 0-5MB/s.                                                \\n>SCSI-II ranges from 0-40MB/s.            \\n>IDE ranges from 0-8.3MB/s.                          \\n>ESDI is always 1.25MB/s (although there are some non-standard versions)\\nALL this shows is that YOU don\\'t know much about SCSI.\\n\\nSCSI-1 {with a SCSI-1 controler chip} range is indeed 0-5MB/s\\nand that is ALL you have right about SCSI\\nSCSI-1 {With a SCSI-2 controller chip}: 4-6MB/s with 10MB/s burst {8-bit}\\n Note the INCREASE in SPEED, the Mac Quadra uses this version of SCSI-1\\n so it DOES exist. Some PC use this set up too.\\nSCSI-2 {8-bit/SCSI-1 mode}:          4-6MB/s with 10MB/s burst\\nSCSI-2 {16-bit/wide or fast mode}:  8-12MB/s with 20MB/s burst\\nSCSI-2 {32-bit/wide AND fast}:     15-20MB/s with 40MB/s burst\\n \\nBy your OWN data the \"Although SCSI is twice as fast as ESDI\" is correct\\nWith a SCSI-2 controller chip SCSI-1 can reach 10MB/s which is indeed\\n\"20% faster than IDE\" {120% of 8.3 is 9.96}. ALL these SCSI facts have been\\nposted to this newsgroup in my Mac & IBM info sheet {available by FTP on \\nsumex-aim.stanford.edu (36.44.0.6) in the info-mac/report as \\nmac-ibm-compare[version #].txt (It should be 173 but 161 may still be there)}\\n\\nPart of this problem is both Mac and IBM PC are inconsiant about what SCSI\\nis which.  Though it is WELL documented that the Quadra has a SCSI-2 chip\\nan Apple salesperson said \"it uses a fast SCSI-1 chip\" {Not at a 6MB/s,\\n10MB/s burst it does not. SCSI-1 is 5MB/s maximum synchronous and Quadra\\nuses ANsynchronous SCSI which is SLOWER}  It seems that Mac and IBM see\\nSCSI-1 interface and think \\'SCSI-1\\' when it maybe a SCSI-1 interface driven\\nin the machine by a SCSi-2 controller chip in 8-bit mode {Which is MUCH\\nFASTER then true SCSI-1 can go}.\\n\\nDon\\'t slam an article because you don\\'t understand what is going on.\\nOne reference for the Quadra\\'s SCSI-2 controller chip is \\n(Digital Review, Oct 21, 1991 v8 n33 p8(1)).\\n',\n",
              " 'From: holmes7000@iscsvax.uni.edu\\nSubject: WIn 3.0 ICON HELP PLEASE!\\nOrganization: University of Northern Iowa\\nLines: 10\\n\\nI have win 3.0 and downloaded several icons and BMP\\'s but I can\\'t figure out\\nhow to change the \"wallpaper\" or use the icons.  Any help would be appreciated.\\n\\n\\nThanx,\\n\\n-Brando\\n\\nPS Please E-mail me\\n\\n',\n",
              " \"From: kerr@ux1.cso.uiuc.edu (Stan Kerr)\\nSubject: Re: Sigma Designs Double up??\\nArticle-I.D.: ux1.C52u8x.B62\\nOrganization: University of Illinois at Urbana\\nLines: 29\\n\\njap10@po.CWRU.Edu (Joseph A. Pellettiere) writes:\\n\\n\\n>\\tI am looking for any information about the Sigma Designs\\n>\\tdouble up board.  All I can figure out is that it is a\\n>\\thardware compression board that works with AutoDoubler, but\\n>\\tI am not sure about this.  Also how much would one cost?\\n\\nI've had the board for over a year, and it does work with Diskdoubler,\\nbut not with Autodoubler, due to a licensing problem with Stac Technologies,\\nthe owners of the board's compression technology. (I'm writing this\\nfrom memory; I've lost the reference. Please correct me if I'm wrong.)\\n\\nUsing the board, I've had problems with file icons being lost, but it's\\nhard to say whether it's the board's fault or something else; however,\\nif I decompress the troubled file and recompress it without the board,\\nthe icon usually reappears. Because of the above mentioned licensing\\nproblem, the freeware expansion utility DD Expand will not decompress\\na board-compressed file unless you have the board installed.\\n\\nSince Stac has its own product now, it seems unlikely that the holes\\nin Autodoubler/Diskdoubler related to the board will be fixed.\\nWhich is sad, and makes me very reluctant to buy Stac's product since\\nthey're being so stinky. (But hey, that's competition.)\\n-- \\n\\nStan Kerr    \\nComputing & Communications Services Office, U of Illinois/Urbana\\nPhone: 217-333-5217  Email: stankerr@uiuc.edu   \\n\"]"
            ]
          },
          "metadata": {},
          "execution_count": 5
        }
      ]
    },
    {
      "cell_type": "code",
      "metadata": {
        "colab": {
          "base_uri": "https://localhost:8080/"
        },
        "id": "rMhGtvXfGPWK",
        "outputId": "923efb50-a4b0-438f-b5d4-eebdad69174a"
      },
      "source": [
        "raw_data = raw_data[:4]\n",
        "print(type(raw_data)) # should be in list format\n",
        "raw_data"
      ],
      "execution_count": 6,
      "outputs": [
        {
          "output_type": "stream",
          "text": [
            "<class 'list'>\n"
          ],
          "name": "stdout"
        },
        {
          "output_type": "execute_result",
          "data": {
            "text/plain": [
              "[\"From: lerxst@wam.umd.edu (where's my thing)\\nSubject: WHAT car is this!?\\nNntp-Posting-Host: rac3.wam.umd.edu\\nOrganization: University of Maryland, College Park\\nLines: 15\\n\\n I was wondering if anyone out there could enlighten me on this car I saw\\nthe other day. It was a 2-door sports car, looked to be from the late 60s/\\nearly 70s. It was called a Bricklin. The doors were really small. In addition,\\nthe front bumper was separate from the rest of the body. This is \\nall I know. If anyone can tellme a model name, engine specs, years\\nof production, where this car is made, history, or whatever info you\\nhave on this funky looking car, please e-mail.\\n\\nThanks,\\n- IL\\n   ---- brought to you by your neighborhood Lerxst ----\\n\\n\\n\\n\\n\",\n",
              " \"From: guykuo@carson.u.washington.edu (Guy Kuo)\\nSubject: SI Clock Poll - Final Call\\nSummary: Final call for SI clock reports\\nKeywords: SI,acceleration,clock,upgrade\\nArticle-I.D.: shelley.1qvfo9INNc3s\\nOrganization: University of Washington\\nLines: 11\\nNNTP-Posting-Host: carson.u.washington.edu\\n\\nA fair number of brave souls who upgraded their SI clock oscillator have\\nshared their experiences for this poll. Please send a brief message detailing\\nyour experiences with the procedure. Top speed attained, CPU rated speed,\\nadd on cards and adapters, heat sinks, hour of usage per day, floppy disk\\nfunctionality with 800 and 1.4 m floppies are especially requested.\\n\\nI will be summarizing in the next two days, so please add to the network\\nknowledge base if you have done the clock upgrade and haven't answered this\\npoll. Thanks.\\n\\nGuy Kuo <guykuo@u.washington.edu>\\n\",\n",
              " 'From: twillis@ec.ecn.purdue.edu (Thomas E Willis)\\nSubject: PB questions...\\nOrganization: Purdue University Engineering Computer Network\\nDistribution: usa\\nLines: 36\\n\\nwell folks, my mac plus finally gave up the ghost this weekend after\\nstarting life as a 512k way back in 1985.  sooo, i\\'m in the market for a\\nnew machine a bit sooner than i intended to be...\\n\\ni\\'m looking into picking up a powerbook 160 or maybe 180 and have a bunch\\nof questions that (hopefully) somebody can answer:\\n\\n* does anybody know any dirt on when the next round of powerbook\\nintroductions are expected?  i\\'d heard the 185c was supposed to make an\\nappearence \"this summer\" but haven\\'t heard anymore on it - and since i\\ndon\\'t have access to macleak, i was wondering if anybody out there had\\nmore info...\\n\\n* has anybody heard rumors about price drops to the powerbook line like the\\nones the duo\\'s just went through recently?\\n\\n* what\\'s the impression of the display on the 180?  i could probably swing\\na 180 if i got the 80Mb disk rather than the 120, but i don\\'t really have\\na feel for how much \"better\" the display is (yea, it looks great in the\\nstore, but is that all \"wow\" or is it really that good?).  could i solicit\\nsome opinions of people who use the 160 and 180 day-to-day on if its worth\\ntaking the disk size and money hit to get the active display?  (i realize\\nthis is a real subjective question, but i\\'ve only played around with the\\nmachines in a computer store breifly and figured the opinions of somebody\\nwho actually uses the machine daily might prove helpful).\\n\\n* how well does hellcats perform?  ;)\\n\\nthanks a bunch in advance for any info - if you could email, i\\'ll post a\\nsummary (news reading time is at a premium with finals just around the\\ncorner... :( )\\n--\\nTom Willis  \\\\  twillis@ecn.purdue.edu    \\\\    Purdue Electrical Engineering\\n---------------------------------------------------------------------------\\n\"Convictions are more dangerous enemies of truth than lies.\"  - F. W.\\nNietzsche\\n',\n",
              " 'From: jgreen@amber (Joe Green)\\nSubject: Re: Weitek P9000 ?\\nOrganization: Harris Computer Systems Division\\nLines: 14\\nDistribution: world\\nNNTP-Posting-Host: amber.ssd.csd.harris.com\\nX-Newsreader: TIN [version 1.1 PL9]\\n\\nRobert J.C. Kyanko (rob@rjck.UUCP) wrote:\\n> abraxis@iastate.edu writes in article <abraxis.734340159@class1.iastate.edu>:\\n> > Anyone know about the Weitek P9000 graphics chip?\\n> As far as the low-level stuff goes, it looks pretty nice.  It\\'s got this\\n> quadrilateral fill command that requires just the four points.\\n\\nDo you have Weitek\\'s address/phone number?  I\\'d like to get some information\\nabout this chip.\\n\\n--\\nJoe Green\\t\\t\\t\\tHarris Corporation\\njgreen@csd.harris.com\\t\\t\\tComputer Systems Division\\n\"The only thing that really scares me is a person with no sense of humor.\"\\n\\t\\t\\t\\t\\t\\t-- Jonathan Winters\\n']"
            ]
          },
          "metadata": {},
          "execution_count": 6
        }
      ]
    },
    {
      "cell_type": "code",
      "metadata": {
        "colab": {
          "base_uri": "https://localhost:8080/"
        },
        "id": "FEXejt7FGVOz",
        "outputId": "97ae259b-dc42-4610-eecc-610d019c0059"
      },
      "source": [
        "# applying word normalization\n",
        "\n",
        "def word_normalize(_list):\n",
        "  \"\"\"\n",
        "  fn & return // This function outputs lower case list, post word normalization.\n",
        "  \"\"\"\n",
        "  try:\n",
        "    temp_list = []\n",
        "    for _ in _list:\n",
        "      temp_list.append(_.lower())\n",
        "    return temp_list\n",
        "\n",
        "  except Exception as e:\n",
        "    return e\n",
        "\n",
        "normalized_text = word_normalize(raw_data)\n",
        "normalized_text"
      ],
      "execution_count": 7,
      "outputs": [
        {
          "output_type": "execute_result",
          "data": {
            "text/plain": [
              "[\"from: lerxst@wam.umd.edu (where's my thing)\\nsubject: what car is this!?\\nnntp-posting-host: rac3.wam.umd.edu\\norganization: university of maryland, college park\\nlines: 15\\n\\n i was wondering if anyone out there could enlighten me on this car i saw\\nthe other day. it was a 2-door sports car, looked to be from the late 60s/\\nearly 70s. it was called a bricklin. the doors were really small. in addition,\\nthe front bumper was separate from the rest of the body. this is \\nall i know. if anyone can tellme a model name, engine specs, years\\nof production, where this car is made, history, or whatever info you\\nhave on this funky looking car, please e-mail.\\n\\nthanks,\\n- il\\n   ---- brought to you by your neighborhood lerxst ----\\n\\n\\n\\n\\n\",\n",
              " \"from: guykuo@carson.u.washington.edu (guy kuo)\\nsubject: si clock poll - final call\\nsummary: final call for si clock reports\\nkeywords: si,acceleration,clock,upgrade\\narticle-i.d.: shelley.1qvfo9innc3s\\norganization: university of washington\\nlines: 11\\nnntp-posting-host: carson.u.washington.edu\\n\\na fair number of brave souls who upgraded their si clock oscillator have\\nshared their experiences for this poll. please send a brief message detailing\\nyour experiences with the procedure. top speed attained, cpu rated speed,\\nadd on cards and adapters, heat sinks, hour of usage per day, floppy disk\\nfunctionality with 800 and 1.4 m floppies are especially requested.\\n\\ni will be summarizing in the next two days, so please add to the network\\nknowledge base if you have done the clock upgrade and haven't answered this\\npoll. thanks.\\n\\nguy kuo <guykuo@u.washington.edu>\\n\",\n",
              " 'from: twillis@ec.ecn.purdue.edu (thomas e willis)\\nsubject: pb questions...\\norganization: purdue university engineering computer network\\ndistribution: usa\\nlines: 36\\n\\nwell folks, my mac plus finally gave up the ghost this weekend after\\nstarting life as a 512k way back in 1985.  sooo, i\\'m in the market for a\\nnew machine a bit sooner than i intended to be...\\n\\ni\\'m looking into picking up a powerbook 160 or maybe 180 and have a bunch\\nof questions that (hopefully) somebody can answer:\\n\\n* does anybody know any dirt on when the next round of powerbook\\nintroductions are expected?  i\\'d heard the 185c was supposed to make an\\nappearence \"this summer\" but haven\\'t heard anymore on it - and since i\\ndon\\'t have access to macleak, i was wondering if anybody out there had\\nmore info...\\n\\n* has anybody heard rumors about price drops to the powerbook line like the\\nones the duo\\'s just went through recently?\\n\\n* what\\'s the impression of the display on the 180?  i could probably swing\\na 180 if i got the 80mb disk rather than the 120, but i don\\'t really have\\na feel for how much \"better\" the display is (yea, it looks great in the\\nstore, but is that all \"wow\" or is it really that good?).  could i solicit\\nsome opinions of people who use the 160 and 180 day-to-day on if its worth\\ntaking the disk size and money hit to get the active display?  (i realize\\nthis is a real subjective question, but i\\'ve only played around with the\\nmachines in a computer store breifly and figured the opinions of somebody\\nwho actually uses the machine daily might prove helpful).\\n\\n* how well does hellcats perform?  ;)\\n\\nthanks a bunch in advance for any info - if you could email, i\\'ll post a\\nsummary (news reading time is at a premium with finals just around the\\ncorner... :( )\\n--\\ntom willis  \\\\  twillis@ecn.purdue.edu    \\\\    purdue electrical engineering\\n---------------------------------------------------------------------------\\n\"convictions are more dangerous enemies of truth than lies.\"  - f. w.\\nnietzsche\\n',\n",
              " 'from: jgreen@amber (joe green)\\nsubject: re: weitek p9000 ?\\norganization: harris computer systems division\\nlines: 14\\ndistribution: world\\nnntp-posting-host: amber.ssd.csd.harris.com\\nx-newsreader: tin [version 1.1 pl9]\\n\\nrobert j.c. kyanko (rob@rjck.uucp) wrote:\\n> abraxis@iastate.edu writes in article <abraxis.734340159@class1.iastate.edu>:\\n> > anyone know about the weitek p9000 graphics chip?\\n> as far as the low-level stuff goes, it looks pretty nice.  it\\'s got this\\n> quadrilateral fill command that requires just the four points.\\n\\ndo you have weitek\\'s address/phone number?  i\\'d like to get some information\\nabout this chip.\\n\\n--\\njoe green\\t\\t\\t\\tharris corporation\\njgreen@csd.harris.com\\t\\t\\tcomputer systems division\\n\"the only thing that really scares me is a person with no sense of humor.\"\\n\\t\\t\\t\\t\\t\\t-- jonathan winters\\n']"
            ]
          },
          "metadata": {},
          "execution_count": 7
        }
      ]
    },
    {
      "cell_type": "code",
      "metadata": {
        "colab": {
          "base_uri": "https://localhost:8080/"
        },
        "id": "wBq7v8eLIGgT",
        "outputId": "cf69048a-84e9-46bf-e8f3-0070e29561ba"
      },
      "source": [
        "# Tokenization\n",
        "\n",
        "tokenized_sentences, tokenized_words = [], []\n",
        "\n",
        "# Sentence Tokenization\n",
        "for _ in normalized_text:\n",
        "  sentence = sent_tokenize(_)\n",
        "  tokenized_sentences.append(sentence)\n",
        "\n",
        "print(type(tokenized_sentences))\n",
        "print(\"\\n-------------------------------- SENTENCE TOKENIZATION ---------------------------------\\n\")\n",
        "tokenized_sentences"
      ],
      "execution_count": 8,
      "outputs": [
        {
          "output_type": "stream",
          "text": [
            "<class 'list'>\n",
            "\n",
            "-------------------------------- SENTENCE TOKENIZATION ---------------------------------\n",
            "\n"
          ],
          "name": "stdout"
        },
        {
          "output_type": "execute_result",
          "data": {
            "text/plain": [
              "[[\"from: lerxst@wam.umd.edu (where's my thing)\\nsubject: what car is this!?\",\n",
              "  'nntp-posting-host: rac3.wam.umd.edu\\norganization: university of maryland, college park\\nlines: 15\\n\\n i was wondering if anyone out there could enlighten me on this car i saw\\nthe other day.',\n",
              "  'it was a 2-door sports car, looked to be from the late 60s/\\nearly 70s.',\n",
              "  'it was called a bricklin.',\n",
              "  'the doors were really small.',\n",
              "  'in addition,\\nthe front bumper was separate from the rest of the body.',\n",
              "  'this is \\nall i know.',\n",
              "  'if anyone can tellme a model name, engine specs, years\\nof production, where this car is made, history, or whatever info you\\nhave on this funky looking car, please e-mail.',\n",
              "  'thanks,\\n- il\\n   ---- brought to you by your neighborhood lerxst ----'],\n",
              " ['from: guykuo@carson.u.washington.edu (guy kuo)\\nsubject: si clock poll - final call\\nsummary: final call for si clock reports\\nkeywords: si,acceleration,clock,upgrade\\narticle-i.d.',\n",
              "  ': shelley.1qvfo9innc3s\\norganization: university of washington\\nlines: 11\\nnntp-posting-host: carson.u.washington.edu\\n\\na fair number of brave souls who upgraded their si clock oscillator have\\nshared their experiences for this poll.',\n",
              "  'please send a brief message detailing\\nyour experiences with the procedure.',\n",
              "  'top speed attained, cpu rated speed,\\nadd on cards and adapters, heat sinks, hour of usage per day, floppy disk\\nfunctionality with 800 and 1.4 m floppies are especially requested.',\n",
              "  \"i will be summarizing in the next two days, so please add to the network\\nknowledge base if you have done the clock upgrade and haven't answered this\\npoll.\",\n",
              "  'thanks.',\n",
              "  'guy kuo <guykuo@u.washington.edu>'],\n",
              " [\"from: twillis@ec.ecn.purdue.edu (thomas e willis)\\nsubject: pb questions...\\norganization: purdue university engineering computer network\\ndistribution: usa\\nlines: 36\\n\\nwell folks, my mac plus finally gave up the ghost this weekend after\\nstarting life as a 512k way back in 1985.  sooo, i'm in the market for a\\nnew machine a bit sooner than i intended to be...\\n\\ni'm looking into picking up a powerbook 160 or maybe 180 and have a bunch\\nof questions that (hopefully) somebody can answer:\\n\\n* does anybody know any dirt on when the next round of powerbook\\nintroductions are expected?\",\n",
              "  'i\\'d heard the 185c was supposed to make an\\nappearence \"this summer\" but haven\\'t heard anymore on it - and since i\\ndon\\'t have access to macleak, i was wondering if anybody out there had\\nmore info...\\n\\n* has anybody heard rumors about price drops to the powerbook line like the\\nones the duo\\'s just went through recently?',\n",
              "  \"* what's the impression of the display on the 180?\",\n",
              "  'i could probably swing\\na 180 if i got the 80mb disk rather than the 120, but i don\\'t really have\\na feel for how much \"better\" the display is (yea, it looks great in the\\nstore, but is that all \"wow\" or is it really that good?).',\n",
              "  'could i solicit\\nsome opinions of people who use the 160 and 180 day-to-day on if its worth\\ntaking the disk size and money hit to get the active display?',\n",
              "  \"(i realize\\nthis is a real subjective question, but i've only played around with the\\nmachines in a computer store breifly and figured the opinions of somebody\\nwho actually uses the machine daily might prove helpful).\",\n",
              "  '* how well does hellcats perform?',\n",
              "  ';)\\n\\nthanks a bunch in advance for any info - if you could email, i\\'ll post a\\nsummary (news reading time is at a premium with finals just around the\\ncorner... :( )\\n--\\ntom willis  \\\\  twillis@ecn.purdue.edu    \\\\    purdue electrical engineering\\n---------------------------------------------------------------------------\\n\"convictions are more dangerous enemies of truth than lies.\"',\n",
              "  '- f. w.\\nnietzsche'],\n",
              " ['from: jgreen@amber (joe green)\\nsubject: re: weitek p9000 ?',\n",
              "  'organization: harris computer systems division\\nlines: 14\\ndistribution: world\\nnntp-posting-host: amber.ssd.csd.harris.com\\nx-newsreader: tin [version 1.1 pl9]\\n\\nrobert j.c. kyanko (rob@rjck.uucp) wrote:\\n> abraxis@iastate.edu writes in article <abraxis.734340159@class1.iastate.edu>:\\n> > anyone know about the weitek p9000 graphics chip?',\n",
              "  '> as far as the low-level stuff goes, it looks pretty nice.',\n",
              "  \"it's got this\\n> quadrilateral fill command that requires just the four points.\",\n",
              "  \"do you have weitek's address/phone number?\",\n",
              "  \"i'd like to get some information\\nabout this chip.\",\n",
              "  '--\\njoe green\\t\\t\\t\\tharris corporation\\njgreen@csd.harris.com\\t\\t\\tcomputer systems division\\n\"the only thing that really scares me is a person with no sense of humor.\"',\n",
              "  '-- jonathan winters']]"
            ]
          },
          "metadata": {},
          "execution_count": 8
        }
      ]
    },
    {
      "cell_type": "code",
      "metadata": {
        "colab": {
          "base_uri": "https://localhost:8080/"
        },
        "id": "vuQDfWJ_J3og",
        "outputId": "0aeaac5f-43df-4701-b848-2c31a75e5da5"
      },
      "source": [
        "# Word Tokenization\n",
        "for _ in normalized_text:\n",
        "  word = word_tokenize(_)\n",
        "  tokenized_words.append(word)\n",
        "\n",
        "print(type(tokenized_words))\n",
        "print(\"\\n-------------------------------- WORD TOKENIZATION ---------------------------------\\n\")\n",
        "print(tokenized_words[:10])"
      ],
      "execution_count": 9,
      "outputs": [
        {
          "output_type": "stream",
          "text": [
            "<class 'list'>\n",
            "\n",
            "-------------------------------- WORD TOKENIZATION ---------------------------------\n",
            "\n",
            "[['from', ':', 'lerxst', '@', 'wam.umd.edu', '(', 'where', \"'s\", 'my', 'thing', ')', 'subject', ':', 'what', 'car', 'is', 'this', '!', '?', 'nntp-posting-host', ':', 'rac3.wam.umd.edu', 'organization', ':', 'university', 'of', 'maryland', ',', 'college', 'park', 'lines', ':', '15', 'i', 'was', 'wondering', 'if', 'anyone', 'out', 'there', 'could', 'enlighten', 'me', 'on', 'this', 'car', 'i', 'saw', 'the', 'other', 'day', '.', 'it', 'was', 'a', '2-door', 'sports', 'car', ',', 'looked', 'to', 'be', 'from', 'the', 'late', '60s/', 'early', '70s', '.', 'it', 'was', 'called', 'a', 'bricklin', '.', 'the', 'doors', 'were', 'really', 'small', '.', 'in', 'addition', ',', 'the', 'front', 'bumper', 'was', 'separate', 'from', 'the', 'rest', 'of', 'the', 'body', '.', 'this', 'is', 'all', 'i', 'know', '.', 'if', 'anyone', 'can', 'tellme', 'a', 'model', 'name', ',', 'engine', 'specs', ',', 'years', 'of', 'production', ',', 'where', 'this', 'car', 'is', 'made', ',', 'history', ',', 'or', 'whatever', 'info', 'you', 'have', 'on', 'this', 'funky', 'looking', 'car', ',', 'please', 'e-mail', '.', 'thanks', ',', '-', 'il', '--', '--', 'brought', 'to', 'you', 'by', 'your', 'neighborhood', 'lerxst', '--', '--'], ['from', ':', 'guykuo', '@', 'carson.u.washington.edu', '(', 'guy', 'kuo', ')', 'subject', ':', 'si', 'clock', 'poll', '-', 'final', 'call', 'summary', ':', 'final', 'call', 'for', 'si', 'clock', 'reports', 'keywords', ':', 'si', ',', 'acceleration', ',', 'clock', ',', 'upgrade', 'article-i.d', '.', ':', 'shelley.1qvfo9innc3s', 'organization', ':', 'university', 'of', 'washington', 'lines', ':', '11', 'nntp-posting-host', ':', 'carson.u.washington.edu', 'a', 'fair', 'number', 'of', 'brave', 'souls', 'who', 'upgraded', 'their', 'si', 'clock', 'oscillator', 'have', 'shared', 'their', 'experiences', 'for', 'this', 'poll', '.', 'please', 'send', 'a', 'brief', 'message', 'detailing', 'your', 'experiences', 'with', 'the', 'procedure', '.', 'top', 'speed', 'attained', ',', 'cpu', 'rated', 'speed', ',', 'add', 'on', 'cards', 'and', 'adapters', ',', 'heat', 'sinks', ',', 'hour', 'of', 'usage', 'per', 'day', ',', 'floppy', 'disk', 'functionality', 'with', '800', 'and', '1.4', 'm', 'floppies', 'are', 'especially', 'requested', '.', 'i', 'will', 'be', 'summarizing', 'in', 'the', 'next', 'two', 'days', ',', 'so', 'please', 'add', 'to', 'the', 'network', 'knowledge', 'base', 'if', 'you', 'have', 'done', 'the', 'clock', 'upgrade', 'and', 'have', \"n't\", 'answered', 'this', 'poll', '.', 'thanks', '.', 'guy', 'kuo', '<', 'guykuo', '@', 'u.washington.edu', '>'], ['from', ':', 'twillis', '@', 'ec.ecn.purdue.edu', '(', 'thomas', 'e', 'willis', ')', 'subject', ':', 'pb', 'questions', '...', 'organization', ':', 'purdue', 'university', 'engineering', 'computer', 'network', 'distribution', ':', 'usa', 'lines', ':', '36', 'well', 'folks', ',', 'my', 'mac', 'plus', 'finally', 'gave', 'up', 'the', 'ghost', 'this', 'weekend', 'after', 'starting', 'life', 'as', 'a', '512k', 'way', 'back', 'in', '1985.', 'sooo', ',', 'i', \"'m\", 'in', 'the', 'market', 'for', 'a', 'new', 'machine', 'a', 'bit', 'sooner', 'than', 'i', 'intended', 'to', 'be', '...', 'i', \"'m\", 'looking', 'into', 'picking', 'up', 'a', 'powerbook', '160', 'or', 'maybe', '180', 'and', 'have', 'a', 'bunch', 'of', 'questions', 'that', '(', 'hopefully', ')', 'somebody', 'can', 'answer', ':', '*', 'does', 'anybody', 'know', 'any', 'dirt', 'on', 'when', 'the', 'next', 'round', 'of', 'powerbook', 'introductions', 'are', 'expected', '?', 'i', \"'d\", 'heard', 'the', '185c', 'was', 'supposed', 'to', 'make', 'an', 'appearence', '``', 'this', 'summer', \"''\", 'but', 'have', \"n't\", 'heard', 'anymore', 'on', 'it', '-', 'and', 'since', 'i', 'do', \"n't\", 'have', 'access', 'to', 'macleak', ',', 'i', 'was', 'wondering', 'if', 'anybody', 'out', 'there', 'had', 'more', 'info', '...', '*', 'has', 'anybody', 'heard', 'rumors', 'about', 'price', 'drops', 'to', 'the', 'powerbook', 'line', 'like', 'the', 'ones', 'the', 'duo', \"'s\", 'just', 'went', 'through', 'recently', '?', '*', 'what', \"'s\", 'the', 'impression', 'of', 'the', 'display', 'on', 'the', '180', '?', 'i', 'could', 'probably', 'swing', 'a', '180', 'if', 'i', 'got', 'the', '80mb', 'disk', 'rather', 'than', 'the', '120', ',', 'but', 'i', 'do', \"n't\", 'really', 'have', 'a', 'feel', 'for', 'how', 'much', '``', 'better', \"''\", 'the', 'display', 'is', '(', 'yea', ',', 'it', 'looks', 'great', 'in', 'the', 'store', ',', 'but', 'is', 'that', 'all', '``', 'wow', \"''\", 'or', 'is', 'it', 'really', 'that', 'good', '?', ')', '.', 'could', 'i', 'solicit', 'some', 'opinions', 'of', 'people', 'who', 'use', 'the', '160', 'and', '180', 'day-to-day', 'on', 'if', 'its', 'worth', 'taking', 'the', 'disk', 'size', 'and', 'money', 'hit', 'to', 'get', 'the', 'active', 'display', '?', '(', 'i', 'realize', 'this', 'is', 'a', 'real', 'subjective', 'question', ',', 'but', 'i', \"'ve\", 'only', 'played', 'around', 'with', 'the', 'machines', 'in', 'a', 'computer', 'store', 'breifly', 'and', 'figured', 'the', 'opinions', 'of', 'somebody', 'who', 'actually', 'uses', 'the', 'machine', 'daily', 'might', 'prove', 'helpful', ')', '.', '*', 'how', 'well', 'does', 'hellcats', 'perform', '?', ';', ')', 'thanks', 'a', 'bunch', 'in', 'advance', 'for', 'any', 'info', '-', 'if', 'you', 'could', 'email', ',', 'i', \"'ll\", 'post', 'a', 'summary', '(', 'news', 'reading', 'time', 'is', 'at', 'a', 'premium', 'with', 'finals', 'just', 'around', 'the', 'corner', '...', ':', '(', ')', '--', 'tom', 'willis', '\\\\', 'twillis', '@', 'ecn.purdue.edu', '\\\\', 'purdue', 'electrical', 'engineering', '--', '--', '--', '--', '--', '--', '--', '--', '--', '--', '--', '--', '--', '--', '--', '--', '--', '--', '--', '--', '--', '--', '--', '--', '--', '--', '--', '--', '--', '--', '--', '--', '--', '--', '--', '--', '--', '-', \"''\", 'convictions', 'are', 'more', 'dangerous', 'enemies', 'of', 'truth', 'than', 'lies', '.', \"''\", '-', 'f.', 'w.', 'nietzsche'], ['from', ':', 'jgreen', '@', 'amber', '(', 'joe', 'green', ')', 'subject', ':', 're', ':', 'weitek', 'p9000', '?', 'organization', ':', 'harris', 'computer', 'systems', 'division', 'lines', ':', '14', 'distribution', ':', 'world', 'nntp-posting-host', ':', 'amber.ssd.csd.harris.com', 'x-newsreader', ':', 'tin', '[', 'version', '1.1', 'pl9', ']', 'robert', 'j.c.', 'kyanko', '(', 'rob', '@', 'rjck.uucp', ')', 'wrote', ':', '>', 'abraxis', '@', 'iastate.edu', 'writes', 'in', 'article', '<', 'abraxis.734340159', '@', 'class1.iastate.edu', '>', ':', '>', '>', 'anyone', 'know', 'about', 'the', 'weitek', 'p9000', 'graphics', 'chip', '?', '>', 'as', 'far', 'as', 'the', 'low-level', 'stuff', 'goes', ',', 'it', 'looks', 'pretty', 'nice', '.', 'it', \"'s\", 'got', 'this', '>', 'quadrilateral', 'fill', 'command', 'that', 'requires', 'just', 'the', 'four', 'points', '.', 'do', 'you', 'have', 'weitek', \"'s\", 'address/phone', 'number', '?', 'i', \"'d\", 'like', 'to', 'get', 'some', 'information', 'about', 'this', 'chip', '.', '--', 'joe', 'green', 'harris', 'corporation', 'jgreen', '@', 'csd.harris.com', 'computer', 'systems', 'division', \"''\", 'the', 'only', 'thing', 'that', 'really', 'scares', 'me', 'is', 'a', 'person', 'with', 'no', 'sense', 'of', 'humor', '.', \"''\", '--', 'jonathan', 'winters']]\n"
          ],
          "name": "stdout"
        }
      ]
    },
    {
      "cell_type": "code",
      "metadata": {
        "colab": {
          "base_uri": "https://localhost:8080/"
        },
        "id": "BjbxDVYrKZqm",
        "outputId": "5d7aa399-e85b-4df6-a4a2-e8aee974c74c"
      },
      "source": [
        "# Removing all the symbols, punctuation, etc.\n",
        "\n",
        "clean_data = []\n",
        "\n",
        "for _list_of_words in tokenized_words:\n",
        "  temp = []\n",
        "  for word in _list_of_words:\n",
        "    r = re.sub(r'[^\\w\\s]', '', word)\n",
        "    if r != '': temp.append(r)\n",
        "  clean_data.append(temp)\n",
        "\n",
        "print(\"\\n-------------------------------- CLEAN DATA ---------------------------------\\n\")\n",
        "print(clean_data)"
      ],
      "execution_count": 10,
      "outputs": [
        {
          "output_type": "stream",
          "text": [
            "\n",
            "-------------------------------- CLEAN DATA ---------------------------------\n",
            "\n",
            "[['from', 'lerxst', 'wamumdedu', 'where', 's', 'my', 'thing', 'subject', 'what', 'car', 'is', 'this', 'nntppostinghost', 'rac3wamumdedu', 'organization', 'university', 'of', 'maryland', 'college', 'park', 'lines', '15', 'i', 'was', 'wondering', 'if', 'anyone', 'out', 'there', 'could', 'enlighten', 'me', 'on', 'this', 'car', 'i', 'saw', 'the', 'other', 'day', 'it', 'was', 'a', '2door', 'sports', 'car', 'looked', 'to', 'be', 'from', 'the', 'late', '60s', 'early', '70s', 'it', 'was', 'called', 'a', 'bricklin', 'the', 'doors', 'were', 'really', 'small', 'in', 'addition', 'the', 'front', 'bumper', 'was', 'separate', 'from', 'the', 'rest', 'of', 'the', 'body', 'this', 'is', 'all', 'i', 'know', 'if', 'anyone', 'can', 'tellme', 'a', 'model', 'name', 'engine', 'specs', 'years', 'of', 'production', 'where', 'this', 'car', 'is', 'made', 'history', 'or', 'whatever', 'info', 'you', 'have', 'on', 'this', 'funky', 'looking', 'car', 'please', 'email', 'thanks', 'il', 'brought', 'to', 'you', 'by', 'your', 'neighborhood', 'lerxst'], ['from', 'guykuo', 'carsonuwashingtonedu', 'guy', 'kuo', 'subject', 'si', 'clock', 'poll', 'final', 'call', 'summary', 'final', 'call', 'for', 'si', 'clock', 'reports', 'keywords', 'si', 'acceleration', 'clock', 'upgrade', 'articleid', 'shelley1qvfo9innc3s', 'organization', 'university', 'of', 'washington', 'lines', '11', 'nntppostinghost', 'carsonuwashingtonedu', 'a', 'fair', 'number', 'of', 'brave', 'souls', 'who', 'upgraded', 'their', 'si', 'clock', 'oscillator', 'have', 'shared', 'their', 'experiences', 'for', 'this', 'poll', 'please', 'send', 'a', 'brief', 'message', 'detailing', 'your', 'experiences', 'with', 'the', 'procedure', 'top', 'speed', 'attained', 'cpu', 'rated', 'speed', 'add', 'on', 'cards', 'and', 'adapters', 'heat', 'sinks', 'hour', 'of', 'usage', 'per', 'day', 'floppy', 'disk', 'functionality', 'with', '800', 'and', '14', 'm', 'floppies', 'are', 'especially', 'requested', 'i', 'will', 'be', 'summarizing', 'in', 'the', 'next', 'two', 'days', 'so', 'please', 'add', 'to', 'the', 'network', 'knowledge', 'base', 'if', 'you', 'have', 'done', 'the', 'clock', 'upgrade', 'and', 'have', 'nt', 'answered', 'this', 'poll', 'thanks', 'guy', 'kuo', 'guykuo', 'uwashingtonedu'], ['from', 'twillis', 'ececnpurdueedu', 'thomas', 'e', 'willis', 'subject', 'pb', 'questions', 'organization', 'purdue', 'university', 'engineering', 'computer', 'network', 'distribution', 'usa', 'lines', '36', 'well', 'folks', 'my', 'mac', 'plus', 'finally', 'gave', 'up', 'the', 'ghost', 'this', 'weekend', 'after', 'starting', 'life', 'as', 'a', '512k', 'way', 'back', 'in', '1985', 'sooo', 'i', 'm', 'in', 'the', 'market', 'for', 'a', 'new', 'machine', 'a', 'bit', 'sooner', 'than', 'i', 'intended', 'to', 'be', 'i', 'm', 'looking', 'into', 'picking', 'up', 'a', 'powerbook', '160', 'or', 'maybe', '180', 'and', 'have', 'a', 'bunch', 'of', 'questions', 'that', 'hopefully', 'somebody', 'can', 'answer', 'does', 'anybody', 'know', 'any', 'dirt', 'on', 'when', 'the', 'next', 'round', 'of', 'powerbook', 'introductions', 'are', 'expected', 'i', 'd', 'heard', 'the', '185c', 'was', 'supposed', 'to', 'make', 'an', 'appearence', 'this', 'summer', 'but', 'have', 'nt', 'heard', 'anymore', 'on', 'it', 'and', 'since', 'i', 'do', 'nt', 'have', 'access', 'to', 'macleak', 'i', 'was', 'wondering', 'if', 'anybody', 'out', 'there', 'had', 'more', 'info', 'has', 'anybody', 'heard', 'rumors', 'about', 'price', 'drops', 'to', 'the', 'powerbook', 'line', 'like', 'the', 'ones', 'the', 'duo', 's', 'just', 'went', 'through', 'recently', 'what', 's', 'the', 'impression', 'of', 'the', 'display', 'on', 'the', '180', 'i', 'could', 'probably', 'swing', 'a', '180', 'if', 'i', 'got', 'the', '80mb', 'disk', 'rather', 'than', 'the', '120', 'but', 'i', 'do', 'nt', 'really', 'have', 'a', 'feel', 'for', 'how', 'much', 'better', 'the', 'display', 'is', 'yea', 'it', 'looks', 'great', 'in', 'the', 'store', 'but', 'is', 'that', 'all', 'wow', 'or', 'is', 'it', 'really', 'that', 'good', 'could', 'i', 'solicit', 'some', 'opinions', 'of', 'people', 'who', 'use', 'the', '160', 'and', '180', 'daytoday', 'on', 'if', 'its', 'worth', 'taking', 'the', 'disk', 'size', 'and', 'money', 'hit', 'to', 'get', 'the', 'active', 'display', 'i', 'realize', 'this', 'is', 'a', 'real', 'subjective', 'question', 'but', 'i', 've', 'only', 'played', 'around', 'with', 'the', 'machines', 'in', 'a', 'computer', 'store', 'breifly', 'and', 'figured', 'the', 'opinions', 'of', 'somebody', 'who', 'actually', 'uses', 'the', 'machine', 'daily', 'might', 'prove', 'helpful', 'how', 'well', 'does', 'hellcats', 'perform', 'thanks', 'a', 'bunch', 'in', 'advance', 'for', 'any', 'info', 'if', 'you', 'could', 'email', 'i', 'll', 'post', 'a', 'summary', 'news', 'reading', 'time', 'is', 'at', 'a', 'premium', 'with', 'finals', 'just', 'around', 'the', 'corner', 'tom', 'willis', 'twillis', 'ecnpurdueedu', 'purdue', 'electrical', 'engineering', 'convictions', 'are', 'more', 'dangerous', 'enemies', 'of', 'truth', 'than', 'lies', 'f', 'w', 'nietzsche'], ['from', 'jgreen', 'amber', 'joe', 'green', 'subject', 're', 'weitek', 'p9000', 'organization', 'harris', 'computer', 'systems', 'division', 'lines', '14', 'distribution', 'world', 'nntppostinghost', 'amberssdcsdharriscom', 'xnewsreader', 'tin', 'version', '11', 'pl9', 'robert', 'jc', 'kyanko', 'rob', 'rjckuucp', 'wrote', 'abraxis', 'iastateedu', 'writes', 'in', 'article', 'abraxis734340159', 'class1iastateedu', 'anyone', 'know', 'about', 'the', 'weitek', 'p9000', 'graphics', 'chip', 'as', 'far', 'as', 'the', 'lowlevel', 'stuff', 'goes', 'it', 'looks', 'pretty', 'nice', 'it', 's', 'got', 'this', 'quadrilateral', 'fill', 'command', 'that', 'requires', 'just', 'the', 'four', 'points', 'do', 'you', 'have', 'weitek', 's', 'addressphone', 'number', 'i', 'd', 'like', 'to', 'get', 'some', 'information', 'about', 'this', 'chip', 'joe', 'green', 'harris', 'corporation', 'jgreen', 'csdharriscom', 'computer', 'systems', 'division', 'the', 'only', 'thing', 'that', 'really', 'scares', 'me', 'is', 'a', 'person', 'with', 'no', 'sense', 'of', 'humor', 'jonathan', 'winters']]\n"
          ],
          "name": "stdout"
        }
      ]
    },
    {
      "cell_type": "code",
      "metadata": {
        "colab": {
          "base_uri": "https://localhost:8080/"
        },
        "id": "yBdQekSHJOx1",
        "outputId": "1da2f169-9001-408c-be4e-cf478bd759b3"
      },
      "source": [
        "# Removing the stopwords\n",
        "stopwords_list = stopwords.words('english') \n",
        "\n",
        "clean_data_temp = clean_data\n",
        "clean_data = []\n",
        "\n",
        "for  _list_of_words in clean_data_temp:\n",
        "  temp = []\n",
        "  for word in _list_of_words:\n",
        "    if word not in stopwords_list:\n",
        "      temp.append(word)\n",
        "  clean_data.append(temp)\n",
        "\n",
        "print(\"\\n-------------------------------- CLEAN DATA ---------------------------------\\n\")\n",
        "print(clean_data[:20])"
      ],
      "execution_count": 11,
      "outputs": [
        {
          "output_type": "stream",
          "text": [
            "\n",
            "-------------------------------- CLEAN DATA ---------------------------------\n",
            "\n",
            "[['lerxst', 'wamumdedu', 'thing', 'subject', 'car', 'nntppostinghost', 'rac3wamumdedu', 'organization', 'university', 'maryland', 'college', 'park', 'lines', '15', 'wondering', 'anyone', 'could', 'enlighten', 'car', 'saw', 'day', '2door', 'sports', 'car', 'looked', 'late', '60s', 'early', '70s', 'called', 'bricklin', 'doors', 'really', 'small', 'addition', 'front', 'bumper', 'separate', 'rest', 'body', 'know', 'anyone', 'tellme', 'model', 'name', 'engine', 'specs', 'years', 'production', 'car', 'made', 'history', 'whatever', 'info', 'funky', 'looking', 'car', 'please', 'email', 'thanks', 'il', 'brought', 'neighborhood', 'lerxst'], ['guykuo', 'carsonuwashingtonedu', 'guy', 'kuo', 'subject', 'si', 'clock', 'poll', 'final', 'call', 'summary', 'final', 'call', 'si', 'clock', 'reports', 'keywords', 'si', 'acceleration', 'clock', 'upgrade', 'articleid', 'shelley1qvfo9innc3s', 'organization', 'university', 'washington', 'lines', '11', 'nntppostinghost', 'carsonuwashingtonedu', 'fair', 'number', 'brave', 'souls', 'upgraded', 'si', 'clock', 'oscillator', 'shared', 'experiences', 'poll', 'please', 'send', 'brief', 'message', 'detailing', 'experiences', 'procedure', 'top', 'speed', 'attained', 'cpu', 'rated', 'speed', 'add', 'cards', 'adapters', 'heat', 'sinks', 'hour', 'usage', 'per', 'day', 'floppy', 'disk', 'functionality', '800', '14', 'floppies', 'especially', 'requested', 'summarizing', 'next', 'two', 'days', 'please', 'add', 'network', 'knowledge', 'base', 'done', 'clock', 'upgrade', 'nt', 'answered', 'poll', 'thanks', 'guy', 'kuo', 'guykuo', 'uwashingtonedu'], ['twillis', 'ececnpurdueedu', 'thomas', 'e', 'willis', 'subject', 'pb', 'questions', 'organization', 'purdue', 'university', 'engineering', 'computer', 'network', 'distribution', 'usa', 'lines', '36', 'well', 'folks', 'mac', 'plus', 'finally', 'gave', 'ghost', 'weekend', 'starting', 'life', '512k', 'way', 'back', '1985', 'sooo', 'market', 'new', 'machine', 'bit', 'sooner', 'intended', 'looking', 'picking', 'powerbook', '160', 'maybe', '180', 'bunch', 'questions', 'hopefully', 'somebody', 'answer', 'anybody', 'know', 'dirt', 'next', 'round', 'powerbook', 'introductions', 'expected', 'heard', '185c', 'supposed', 'make', 'appearence', 'summer', 'nt', 'heard', 'anymore', 'since', 'nt', 'access', 'macleak', 'wondering', 'anybody', 'info', 'anybody', 'heard', 'rumors', 'price', 'drops', 'powerbook', 'line', 'like', 'ones', 'duo', 'went', 'recently', 'impression', 'display', '180', 'could', 'probably', 'swing', '180', 'got', '80mb', 'disk', 'rather', '120', 'nt', 'really', 'feel', 'much', 'better', 'display', 'yea', 'looks', 'great', 'store', 'wow', 'really', 'good', 'could', 'solicit', 'opinions', 'people', 'use', '160', '180', 'daytoday', 'worth', 'taking', 'disk', 'size', 'money', 'hit', 'get', 'active', 'display', 'realize', 'real', 'subjective', 'question', 'played', 'around', 'machines', 'computer', 'store', 'breifly', 'figured', 'opinions', 'somebody', 'actually', 'uses', 'machine', 'daily', 'might', 'prove', 'helpful', 'well', 'hellcats', 'perform', 'thanks', 'bunch', 'advance', 'info', 'could', 'email', 'post', 'summary', 'news', 'reading', 'time', 'premium', 'finals', 'around', 'corner', 'tom', 'willis', 'twillis', 'ecnpurdueedu', 'purdue', 'electrical', 'engineering', 'convictions', 'dangerous', 'enemies', 'truth', 'lies', 'f', 'w', 'nietzsche'], ['jgreen', 'amber', 'joe', 'green', 'subject', 'weitek', 'p9000', 'organization', 'harris', 'computer', 'systems', 'division', 'lines', '14', 'distribution', 'world', 'nntppostinghost', 'amberssdcsdharriscom', 'xnewsreader', 'tin', 'version', '11', 'pl9', 'robert', 'jc', 'kyanko', 'rob', 'rjckuucp', 'wrote', 'abraxis', 'iastateedu', 'writes', 'article', 'abraxis734340159', 'class1iastateedu', 'anyone', 'know', 'weitek', 'p9000', 'graphics', 'chip', 'far', 'lowlevel', 'stuff', 'goes', 'looks', 'pretty', 'nice', 'got', 'quadrilateral', 'fill', 'command', 'requires', 'four', 'points', 'weitek', 'addressphone', 'number', 'like', 'get', 'information', 'chip', 'joe', 'green', 'harris', 'corporation', 'jgreen', 'csdharriscom', 'computer', 'systems', 'division', 'thing', 'really', 'scares', 'person', 'sense', 'humor', 'jonathan', 'winters']]\n"
          ],
          "name": "stdout"
        }
      ]
    },
    {
      "cell_type": "code",
      "metadata": {
        "colab": {
          "base_uri": "https://localhost:8080/"
        },
        "id": "K7wqLSLfjYCW",
        "outputId": "c4798c6b-c261-4874-f28e-18a8f7d67492"
      },
      "source": [
        "# Stemming on the CLEAN  DATA -- used for removing the prefix\n",
        "\n",
        "porter_stemmer = PorterStemmer()\n",
        "\n",
        "# Example\n",
        "input = \"G. Washington is walking down the streets of Washington and is dreaming of one of the greatest economies building itself to glory\"\n",
        "output = [ porter_stemmer.stem(i) for i in input.split() ]\n",
        "print(output)\n",
        "\n",
        "clean_data_temp1 = clean_data\n",
        "clean_data = []\n",
        "\n",
        "for _list_of_words in clean_data_temp1:\n",
        "  temp = []\n",
        "  for word in _list_of_words:\n",
        "    temp.append(porter_stemmer.stem(word))\n",
        "  clean_data.append(temp)\n",
        "\n",
        "clean_data # stemmed data"
      ],
      "execution_count": 12,
      "outputs": [
        {
          "output_type": "stream",
          "text": [
            "['G.', 'washington', 'is', 'walk', 'down', 'the', 'street', 'of', 'washington', 'and', 'is', 'dream', 'of', 'one', 'of', 'the', 'greatest', 'economi', 'build', 'itself', 'to', 'glori']\n"
          ],
          "name": "stdout"
        },
        {
          "output_type": "execute_result",
          "data": {
            "text/plain": [
              "[['lerxst',\n",
              "  'wamumdedu',\n",
              "  'thing',\n",
              "  'subject',\n",
              "  'car',\n",
              "  'nntppostinghost',\n",
              "  'rac3wamumdedu',\n",
              "  'organ',\n",
              "  'univers',\n",
              "  'maryland',\n",
              "  'colleg',\n",
              "  'park',\n",
              "  'line',\n",
              "  '15',\n",
              "  'wonder',\n",
              "  'anyon',\n",
              "  'could',\n",
              "  'enlighten',\n",
              "  'car',\n",
              "  'saw',\n",
              "  'day',\n",
              "  '2door',\n",
              "  'sport',\n",
              "  'car',\n",
              "  'look',\n",
              "  'late',\n",
              "  '60',\n",
              "  'earli',\n",
              "  '70',\n",
              "  'call',\n",
              "  'bricklin',\n",
              "  'door',\n",
              "  'realli',\n",
              "  'small',\n",
              "  'addit',\n",
              "  'front',\n",
              "  'bumper',\n",
              "  'separ',\n",
              "  'rest',\n",
              "  'bodi',\n",
              "  'know',\n",
              "  'anyon',\n",
              "  'tellm',\n",
              "  'model',\n",
              "  'name',\n",
              "  'engin',\n",
              "  'spec',\n",
              "  'year',\n",
              "  'product',\n",
              "  'car',\n",
              "  'made',\n",
              "  'histori',\n",
              "  'whatev',\n",
              "  'info',\n",
              "  'funki',\n",
              "  'look',\n",
              "  'car',\n",
              "  'pleas',\n",
              "  'email',\n",
              "  'thank',\n",
              "  'il',\n",
              "  'brought',\n",
              "  'neighborhood',\n",
              "  'lerxst'],\n",
              " ['guykuo',\n",
              "  'carsonuwashingtonedu',\n",
              "  'guy',\n",
              "  'kuo',\n",
              "  'subject',\n",
              "  'si',\n",
              "  'clock',\n",
              "  'poll',\n",
              "  'final',\n",
              "  'call',\n",
              "  'summari',\n",
              "  'final',\n",
              "  'call',\n",
              "  'si',\n",
              "  'clock',\n",
              "  'report',\n",
              "  'keyword',\n",
              "  'si',\n",
              "  'acceler',\n",
              "  'clock',\n",
              "  'upgrad',\n",
              "  'articleid',\n",
              "  'shelley1qvfo9innc3',\n",
              "  'organ',\n",
              "  'univers',\n",
              "  'washington',\n",
              "  'line',\n",
              "  '11',\n",
              "  'nntppostinghost',\n",
              "  'carsonuwashingtonedu',\n",
              "  'fair',\n",
              "  'number',\n",
              "  'brave',\n",
              "  'soul',\n",
              "  'upgrad',\n",
              "  'si',\n",
              "  'clock',\n",
              "  'oscil',\n",
              "  'share',\n",
              "  'experi',\n",
              "  'poll',\n",
              "  'pleas',\n",
              "  'send',\n",
              "  'brief',\n",
              "  'messag',\n",
              "  'detail',\n",
              "  'experi',\n",
              "  'procedur',\n",
              "  'top',\n",
              "  'speed',\n",
              "  'attain',\n",
              "  'cpu',\n",
              "  'rate',\n",
              "  'speed',\n",
              "  'add',\n",
              "  'card',\n",
              "  'adapt',\n",
              "  'heat',\n",
              "  'sink',\n",
              "  'hour',\n",
              "  'usag',\n",
              "  'per',\n",
              "  'day',\n",
              "  'floppi',\n",
              "  'disk',\n",
              "  'function',\n",
              "  '800',\n",
              "  '14',\n",
              "  'floppi',\n",
              "  'especi',\n",
              "  'request',\n",
              "  'summar',\n",
              "  'next',\n",
              "  'two',\n",
              "  'day',\n",
              "  'pleas',\n",
              "  'add',\n",
              "  'network',\n",
              "  'knowledg',\n",
              "  'base',\n",
              "  'done',\n",
              "  'clock',\n",
              "  'upgrad',\n",
              "  'nt',\n",
              "  'answer',\n",
              "  'poll',\n",
              "  'thank',\n",
              "  'guy',\n",
              "  'kuo',\n",
              "  'guykuo',\n",
              "  'uwashingtonedu'],\n",
              " ['twilli',\n",
              "  'ececnpurdueedu',\n",
              "  'thoma',\n",
              "  'e',\n",
              "  'willi',\n",
              "  'subject',\n",
              "  'pb',\n",
              "  'question',\n",
              "  'organ',\n",
              "  'purdu',\n",
              "  'univers',\n",
              "  'engin',\n",
              "  'comput',\n",
              "  'network',\n",
              "  'distribut',\n",
              "  'usa',\n",
              "  'line',\n",
              "  '36',\n",
              "  'well',\n",
              "  'folk',\n",
              "  'mac',\n",
              "  'plu',\n",
              "  'final',\n",
              "  'gave',\n",
              "  'ghost',\n",
              "  'weekend',\n",
              "  'start',\n",
              "  'life',\n",
              "  '512k',\n",
              "  'way',\n",
              "  'back',\n",
              "  '1985',\n",
              "  'sooo',\n",
              "  'market',\n",
              "  'new',\n",
              "  'machin',\n",
              "  'bit',\n",
              "  'sooner',\n",
              "  'intend',\n",
              "  'look',\n",
              "  'pick',\n",
              "  'powerbook',\n",
              "  '160',\n",
              "  'mayb',\n",
              "  '180',\n",
              "  'bunch',\n",
              "  'question',\n",
              "  'hope',\n",
              "  'somebodi',\n",
              "  'answer',\n",
              "  'anybodi',\n",
              "  'know',\n",
              "  'dirt',\n",
              "  'next',\n",
              "  'round',\n",
              "  'powerbook',\n",
              "  'introduct',\n",
              "  'expect',\n",
              "  'heard',\n",
              "  '185c',\n",
              "  'suppos',\n",
              "  'make',\n",
              "  'appear',\n",
              "  'summer',\n",
              "  'nt',\n",
              "  'heard',\n",
              "  'anymor',\n",
              "  'sinc',\n",
              "  'nt',\n",
              "  'access',\n",
              "  'macleak',\n",
              "  'wonder',\n",
              "  'anybodi',\n",
              "  'info',\n",
              "  'anybodi',\n",
              "  'heard',\n",
              "  'rumor',\n",
              "  'price',\n",
              "  'drop',\n",
              "  'powerbook',\n",
              "  'line',\n",
              "  'like',\n",
              "  'one',\n",
              "  'duo',\n",
              "  'went',\n",
              "  'recent',\n",
              "  'impress',\n",
              "  'display',\n",
              "  '180',\n",
              "  'could',\n",
              "  'probabl',\n",
              "  'swing',\n",
              "  '180',\n",
              "  'got',\n",
              "  '80mb',\n",
              "  'disk',\n",
              "  'rather',\n",
              "  '120',\n",
              "  'nt',\n",
              "  'realli',\n",
              "  'feel',\n",
              "  'much',\n",
              "  'better',\n",
              "  'display',\n",
              "  'yea',\n",
              "  'look',\n",
              "  'great',\n",
              "  'store',\n",
              "  'wow',\n",
              "  'realli',\n",
              "  'good',\n",
              "  'could',\n",
              "  'solicit',\n",
              "  'opinion',\n",
              "  'peopl',\n",
              "  'use',\n",
              "  '160',\n",
              "  '180',\n",
              "  'daytoday',\n",
              "  'worth',\n",
              "  'take',\n",
              "  'disk',\n",
              "  'size',\n",
              "  'money',\n",
              "  'hit',\n",
              "  'get',\n",
              "  'activ',\n",
              "  'display',\n",
              "  'realiz',\n",
              "  'real',\n",
              "  'subject',\n",
              "  'question',\n",
              "  'play',\n",
              "  'around',\n",
              "  'machin',\n",
              "  'comput',\n",
              "  'store',\n",
              "  'breifli',\n",
              "  'figur',\n",
              "  'opinion',\n",
              "  'somebodi',\n",
              "  'actual',\n",
              "  'use',\n",
              "  'machin',\n",
              "  'daili',\n",
              "  'might',\n",
              "  'prove',\n",
              "  'help',\n",
              "  'well',\n",
              "  'hellcat',\n",
              "  'perform',\n",
              "  'thank',\n",
              "  'bunch',\n",
              "  'advanc',\n",
              "  'info',\n",
              "  'could',\n",
              "  'email',\n",
              "  'post',\n",
              "  'summari',\n",
              "  'news',\n",
              "  'read',\n",
              "  'time',\n",
              "  'premium',\n",
              "  'final',\n",
              "  'around',\n",
              "  'corner',\n",
              "  'tom',\n",
              "  'willi',\n",
              "  'twilli',\n",
              "  'ecnpurdueedu',\n",
              "  'purdu',\n",
              "  'electr',\n",
              "  'engin',\n",
              "  'convict',\n",
              "  'danger',\n",
              "  'enemi',\n",
              "  'truth',\n",
              "  'lie',\n",
              "  'f',\n",
              "  'w',\n",
              "  'nietzsch'],\n",
              " ['jgreen',\n",
              "  'amber',\n",
              "  'joe',\n",
              "  'green',\n",
              "  'subject',\n",
              "  'weitek',\n",
              "  'p9000',\n",
              "  'organ',\n",
              "  'harri',\n",
              "  'comput',\n",
              "  'system',\n",
              "  'divis',\n",
              "  'line',\n",
              "  '14',\n",
              "  'distribut',\n",
              "  'world',\n",
              "  'nntppostinghost',\n",
              "  'amberssdcsdharriscom',\n",
              "  'xnewsread',\n",
              "  'tin',\n",
              "  'version',\n",
              "  '11',\n",
              "  'pl9',\n",
              "  'robert',\n",
              "  'jc',\n",
              "  'kyanko',\n",
              "  'rob',\n",
              "  'rjckuucp',\n",
              "  'wrote',\n",
              "  'abraxi',\n",
              "  'iastateedu',\n",
              "  'write',\n",
              "  'articl',\n",
              "  'abraxis734340159',\n",
              "  'class1iastateedu',\n",
              "  'anyon',\n",
              "  'know',\n",
              "  'weitek',\n",
              "  'p9000',\n",
              "  'graphic',\n",
              "  'chip',\n",
              "  'far',\n",
              "  'lowlevel',\n",
              "  'stuff',\n",
              "  'goe',\n",
              "  'look',\n",
              "  'pretti',\n",
              "  'nice',\n",
              "  'got',\n",
              "  'quadrilater',\n",
              "  'fill',\n",
              "  'command',\n",
              "  'requir',\n",
              "  'four',\n",
              "  'point',\n",
              "  'weitek',\n",
              "  'addressphon',\n",
              "  'number',\n",
              "  'like',\n",
              "  'get',\n",
              "  'inform',\n",
              "  'chip',\n",
              "  'joe',\n",
              "  'green',\n",
              "  'harri',\n",
              "  'corpor',\n",
              "  'jgreen',\n",
              "  'csdharriscom',\n",
              "  'comput',\n",
              "  'system',\n",
              "  'divis',\n",
              "  'thing',\n",
              "  'realli',\n",
              "  'scare',\n",
              "  'person',\n",
              "  'sens',\n",
              "  'humor',\n",
              "  'jonathan',\n",
              "  'winter']]"
            ]
          },
          "metadata": {},
          "execution_count": 12
        }
      ]
    },
    {
      "cell_type": "code",
      "metadata": {
        "id": "w_94kVgvltvt"
      },
      "source": [
        "# Lemmatization\n",
        "\n",
        "lemmatizer = WordNetLemmatizer()\n",
        "\n",
        "clean_data_temp1 = clean_data\n",
        "clean_data = []\n",
        "\n",
        "for _list_of_words in clean_data_temp1:\n",
        "  temp = []\n",
        "  for word in _list_of_words:\n",
        "    temp.append(lemmatizer.lemmatize(word))\n",
        "  clean_data.append(temp)"
      ],
      "execution_count": 13,
      "outputs": []
    },
    {
      "cell_type": "code",
      "metadata": {
        "colab": {
          "base_uri": "https://localhost:8080/"
        },
        "id": "LWmbONqnyScz",
        "outputId": "f4a3af8b-899f-4f1e-8d56-a11e33450f71"
      },
      "source": [
        "print(clean_data[1]) # lemmatized data"
      ],
      "execution_count": 14,
      "outputs": [
        {
          "output_type": "stream",
          "text": [
            "['guykuo', 'carsonuwashingtonedu', 'guy', 'kuo', 'subject', 'si', 'clock', 'poll', 'final', 'call', 'summari', 'final', 'call', 'si', 'clock', 'report', 'keyword', 'si', 'acceler', 'clock', 'upgrad', 'articleid', 'shelley1qvfo9innc3', 'organ', 'univers', 'washington', 'line', '11', 'nntppostinghost', 'carsonuwashingtonedu', 'fair', 'number', 'brave', 'soul', 'upgrad', 'si', 'clock', 'oscil', 'share', 'experi', 'poll', 'plea', 'send', 'brief', 'messag', 'detail', 'experi', 'procedur', 'top', 'speed', 'attain', 'cpu', 'rate', 'speed', 'add', 'card', 'adapt', 'heat', 'sink', 'hour', 'usag', 'per', 'day', 'floppi', 'disk', 'function', '800', '14', 'floppi', 'especi', 'request', 'summar', 'next', 'two', 'day', 'plea', 'add', 'network', 'knowledg', 'base', 'done', 'clock', 'upgrad', 'nt', 'answer', 'poll', 'thank', 'guy', 'kuo', 'guykuo', 'uwashingtonedu']\n"
          ],
          "name": "stdout"
        }
      ]
    }
  ]
}