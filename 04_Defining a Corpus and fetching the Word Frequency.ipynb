{
 "cells": [
  {
   "cell_type": "code",
   "execution_count": 1,
   "id": "79fb31a5",
   "metadata": {},
   "outputs": [],
   "source": [
    "# Imports\n",
    "import nltk, pandas as pd"
   ]
  },
  {
   "cell_type": "code",
   "execution_count": 2,
   "id": "b3a117f6",
   "metadata": {},
   "outputs": [
    {
     "name": "stdout",
     "output_type": "stream",
     "text": [
      "*** Introductory Examples for the NLTK Book ***\n",
      "Loading text1, ..., text9 and sent1, ..., sent9\n",
      "Type the name of the text or sentence to view it.\n",
      "Type: 'texts()' or 'sents()' to list the materials.\n",
      "text1: Moby Dick by Herman Melville 1851\n",
      "text2: Sense and Sensibility by Jane Austen 1811\n",
      "text3: The Book of Genesis\n",
      "text4: Inaugural Address Corpus\n",
      "text5: Chat Corpus\n",
      "text6: Monty Python and the Holy Grail\n",
      "text7: Wall Street Journal\n",
      "text8: Personals Corpus\n",
      "text9: The Man Who Was Thursday by G . K . Chesterton 1908\n"
     ]
    }
   ],
   "source": [
    "from nltk.book import *"
   ]
  },
  {
   "cell_type": "code",
   "execution_count": 4,
   "id": "710190ac",
   "metadata": {
    "scrolled": false
   },
   "outputs": [
    {
     "data": {
      "text/plain": [
       "'\\n\\n\\njust setting up my twttr\\ntm help\\nWondering if I should quit work and become a monk who secretly writes serial murder thriller novels.\\nGoing to bed.\\ngary coleman sighting by Zoom. The rumors were true\\nFestmob. In The Signal premiere. Lotsa buyers. Good luck gang\\nlistening to the pocast net@nite wh'"
      ]
     },
     "execution_count": 4,
     "metadata": {},
     "output_type": "execute_result"
    }
   ],
   "source": [
    "f = open(r'C:\\Users\\D3\\Downloads\\MASC-3.0.0\\data\\written\\twitter\\tweets1.txt', 'r')\n",
    "text = f.read()\n",
    "text[:300]"
   ]
  },
  {
   "cell_type": "code",
   "execution_count": 5,
   "id": "09faf36c",
   "metadata": {},
   "outputs": [
    {
     "data": {
      "text/plain": [
       "['just', 'setting', 'up', 'my', 'twttr', 'tm', 'help', 'Wondering', 'if', 'I']"
      ]
     },
     "execution_count": 5,
     "metadata": {},
     "output_type": "execute_result"
    }
   ],
   "source": [
    "text = text.split()\n",
    "text[:10]"
   ]
  },
  {
   "cell_type": "code",
   "execution_count": 6,
   "id": "823e90b5",
   "metadata": {},
   "outputs": [
    {
     "data": {
      "text/plain": [
       "<Text: just setting up my twttr tm help Wondering...>"
      ]
     },
     "execution_count": 6,
     "metadata": {},
     "output_type": "execute_result"
    }
   ],
   "source": [
    "# Loading the corpus\n",
    "text10 = nltk.Text(text)\n",
    "text10"
   ]
  },
  {
   "cell_type": "code",
   "execution_count": 8,
   "id": "665cca7d",
   "metadata": {},
   "outputs": [
    {
     "name": "stdout",
     "output_type": "stream",
     "text": [
      "Displaying 1 of 1 matches:\n",
      "y last break now for an office 2007 module i have to get up in 6 hours to driv\n"
     ]
    }
   ],
   "source": [
    "text10.concordance('module') # prints whichever sentence contains \"module\""
   ]
  },
  {
   "cell_type": "code",
   "execution_count": 15,
   "id": "3c80ba76",
   "metadata": {},
   "outputs": [
    {
     "name": "stdout",
     "output_type": "stream",
     "text": [
      "Displaying 6 of 6 matches:\n",
      "just setting up my twttr tm help Wondering if I should quit work and become a\n",
      "! Too bad it's so inhospitable. is wondering how the hell she's going to write \n",
      "ng shade in the warm Danville sun, wondering if I'll see any more wild turkeys \n",
      "pathology book,listening music and wondering what movie is the one running on t\n",
      "Comes from Don McLean song \"An ... wondering what I should do with this twitter\n",
      "ert! At lunch sitting on the couch wondering what this whole twitter things is \n"
     ]
    }
   ],
   "source": [
    "text10.concordance('wondering')"
   ]
  },
  {
   "cell_type": "code",
   "execution_count": 14,
   "id": "fc1bb594",
   "metadata": {},
   "outputs": [
    {
     "data": {
      "text/plain": [
       "[ConcordanceLine(left=['supper,', 'now', 'to', 'go', 'back', 'to', 'boring', 'vista', 'training', 'just', 'finished', 'my', 'last', 'break', 'now', 'for', 'an', 'office', '2007'], query='module', right=['i', 'have', 'to', 'get', 'up', 'in', '6', 'hours', 'to', 'drive', 'my', 'sister', 'so', 'i', 'am', 'going', 'to', 'catch'], offset=97, left_print='y last break now for an office 2007', right_print='i have to get up in 6 hours to driv', line='y last break now for an office 2007 module i have to get up in 6 hours to driv')]"
      ]
     },
     "execution_count": 14,
     "metadata": {},
     "output_type": "execute_result"
    }
   ],
   "source": [
    "text10.concordance_list('module')"
   ]
  },
  {
   "cell_type": "code",
   "execution_count": 16,
   "id": "c6ec870c",
   "metadata": {},
   "outputs": [
    {
     "data": {
      "text/plain": [
       "ConcordanceLine(left=['I', \"didn't\", 'know', 'Venus', 'takes', '243', 'of', 'our', 'days', 'to', 'rotate.', \"That's\", 'crazy!', 'Too', 'bad', \"it's\", 'so', 'inhospitable.', 'is'], query='wondering', right=['how', 'the', 'hell', \"she's\", 'going', 'to', 'write', 'a', '10-page', 'paper', 'on', 'text', 'messaging...', 'Twitting', 'this', 'from', 'KL!', 'testing'], offset=1535, left_print=\"! Too bad it's so inhospitable. is\", right_print=\"how the hell she's going to write \", line=\"! Too bad it's so inhospitable. is wondering how the hell she's going to write \")"
      ]
     },
     "execution_count": 16,
     "metadata": {},
     "output_type": "execute_result"
    }
   ],
   "source": [
    "text10.concordance_list('wondering')[1]"
   ]
  },
  {
   "cell_type": "code",
   "execution_count": 17,
   "id": "533c5281",
   "metadata": {},
   "outputs": [
    {
     "data": {
      "text/plain": [
       "FreqDist({'to': 358, 'the': 316, 'a': 252, 'for': 179, 'and': 165, 'I': 153, 'on': 147, 'of': 142, 'my': 140, 'in': 134, ...})"
      ]
     },
     "execution_count": 17,
     "metadata": {},
     "output_type": "execute_result"
    }
   ],
   "source": [
    "frequency_distribution = FreqDist(text10)\n",
    "frequency_distribution"
   ]
  },
  {
   "cell_type": "code",
   "execution_count": 18,
   "id": "f2dfad98",
   "metadata": {},
   "outputs": [
    {
     "data": {
      "text/plain": [
       "[('to', 358),\n",
       " ('the', 316),\n",
       " ('a', 252),\n",
       " ('for', 179),\n",
       " ('and', 165),\n",
       " ('I', 153),\n",
       " ('on', 147),\n",
       " ('of', 142),\n",
       " ('my', 140),\n",
       " ('in', 134),\n",
       " ('is', 121),\n",
       " ('url', 96),\n",
       " ('at', 84),\n",
       " ('with', 57),\n",
       " ('that', 55),\n",
       " ('from', 54),\n",
       " ('it', 46),\n",
       " ('up', 45),\n",
       " ('are', 45),\n",
       " ('about', 45),\n",
       " ('new', 44),\n",
       " ('just', 43),\n",
       " ('out', 43),\n",
       " ('this', 42),\n",
       " ('-', 39)]"
      ]
     },
     "execution_count": 18,
     "metadata": {},
     "output_type": "execute_result"
    }
   ],
   "source": [
    "frequency_distribution.most_common(25)"
   ]
  },
  {
   "cell_type": "code",
   "execution_count": 19,
   "id": "ec156b0f",
   "metadata": {},
   "outputs": [
    {
     "data": {
      "image/png": "[encoded data removed]",
      "text/plain": [
       "<Figure size 432x288 with 1 Axes>"
      ]
     },
     "metadata": {
      "needs_background": "light"
     },
     "output_type": "display_data"
    },
    {
     "data": {
      "text/plain": [
       "<AxesSubplot:xlabel='Samples', ylabel='Counts'>"
      ]
     },
     "execution_count": 19,
     "metadata": {},
     "output_type": "execute_result"
    }
   ],
   "source": [
    "frequency_distribution.plot(25) \n",
    "# plots the exact no. of times top 25 words are used"
   ]
  },
  {
   "cell_type": "code",
   "execution_count": 20,
   "id": "3aca63e9",
   "metadata": {},
   "outputs": [
    {
     "data": {
      "image/png": "[encoded data removed]",
      "text/plain": [
       "<Figure size 432x288 with 1 Axes>"
      ]
     },
     "metadata": {
      "needs_background": "light"
     },
     "output_type": "display_data"
    },
    {
     "data": {
      "text/plain": [
       "<AxesSubplot:xlabel='Samples', ylabel='Cumulative Counts'>"
      ]
     },
     "execution_count": 20,
     "metadata": {},
     "output_type": "execute_result"
    }
   ],
   "source": [
    "frequency_distribution.plot(25, cumulative=True) \n",
    "# Top 25 words are used around more than 2500 times"
   ]
  },
  {
   "cell_type": "code",
   "execution_count": 21,
   "id": "8409a937",
   "metadata": {},
   "outputs": [],
   "source": [
    "# ConditionalFreqDist is a single experiment tested under different conditions\n",
    "from nltk.probability import ConditionalFreqDist\n",
    "conditional_frequency_dist = ConditionalFreqDist( (len(word), word) for word in text10 )"
   ]
  },
  {
   "cell_type": "code",
   "execution_count": 22,
   "id": "ce9127fc",
   "metadata": {},
   "outputs": [
    {
     "data": {
      "text/plain": [
       "FreqDist({'the': 316, 'for': 179, 'and': 165, 'url': 96, 'are': 45, 'new': 44, 'out': 43, \"I'm\": 35, 'get': 32, 'day': 32, ...})"
      ]
     },
     "execution_count": 22,
     "metadata": {},
     "output_type": "execute_result"
    }
   ],
   "source": [
    "conditional_frequency_dist[3] # 3 letter words are printed"
   ]
  },
  {
   "cell_type": "code",
   "execution_count": 21,
   "id": "f42d0f8c",
   "metadata": {},
   "outputs": [
    {
     "data": {
      "text/plain": [
       "FreqDist({'really': 16, 'Posted': 12, 'Trying': 10, 'office': 9, 'trying': 9, 'making': 8, 'today.': 8, 'coming': 8, 'should': 7, 'having': 7, ...})"
      ]
     },
     "execution_count": 21,
     "metadata": {},
     "output_type": "execute_result"
    }
   ],
   "source": [
    "conditional_frequency_dist[6] # 6 letter words are printed"
   ]
  }
 ],
 "metadata": {
  "kernelspec": {
   "display_name": "Python 3",
   "language": "python",
   "name": "python3"
  },
  "language_info": {
   "codemirror_mode": {
    "name": "ipython",
    "version": 3
   },
   "file_extension": ".py",
   "mimetype": "text/x-python",
   "name": "python",
   "nbconvert_exporter": "python",
   "pygments_lexer": "ipython3",
   "version": "3.8.8"
  }
 },
 "nbformat": 4,
 "nbformat_minor": 5
}
